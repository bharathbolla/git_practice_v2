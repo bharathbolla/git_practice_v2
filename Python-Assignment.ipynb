{
 "cells": [
  {
   "cell_type": "code",
   "execution_count": 1,
   "metadata": {},
   "outputs": [],
   "source": [
    "#import all libraries\n",
    "import numpy as np\n",
    "import pandas as pd"
   ]
  },
  {
   "cell_type": "code",
   "execution_count": 147,
   "metadata": {},
   "outputs": [],
   "source": [
    "import unittest"
   ]
  },
  {
   "cell_type": "code",
   "execution_count": 16,
   "metadata": {},
   "outputs": [],
   "source": [
    "pd.options.display.max_columns = 100"
   ]
  },
  {
   "cell_type": "code",
   "execution_count": 6,
   "metadata": {},
   "outputs": [],
   "source": [
    "ideal_df = pd.read_csv(\"ideal.csv\")\n",
    "test_df = pd.read_csv(\"test.csv\")\n",
    "train_df = pd.read_csv(\"train.csv\")"
   ]
  },
  {
   "cell_type": "code",
   "execution_count": 91,
   "metadata": {},
   "outputs": [
    {
     "name": "stdout",
     "output_type": "stream",
     "text": [
      "<class 'pandas.core.frame.DataFrame'>\n",
      "RangeIndex: 400 entries, 0 to 399\n",
      "Data columns (total 5 columns):\n",
      " #   Column  Non-Null Count  Dtype  \n",
      "---  ------  --------------  -----  \n",
      " 0   x       400 non-null    float64\n",
      " 1   y1      400 non-null    float64\n",
      " 2   y2      400 non-null    float64\n",
      " 3   y3      400 non-null    float64\n",
      " 4   y4      400 non-null    float64\n",
      "dtypes: float64(5)\n",
      "memory usage: 15.8 KB\n"
     ]
    }
   ],
   "source": [
    "train_df.info()"
   ]
  },
  {
   "cell_type": "code",
   "execution_count": 7,
   "metadata": {},
   "outputs": [
    {
     "name": "stdout",
     "output_type": "stream",
     "text": [
      "(400, 5)\n",
      "(400, 51)\n",
      "(100, 2)\n"
     ]
    }
   ],
   "source": [
    "print(train_df.shape)\n",
    "print(ideal_df.shape)\n",
    "print(test_df.shape)"
   ]
  },
  {
   "cell_type": "code",
   "execution_count": 8,
   "metadata": {},
   "outputs": [
    {
     "data": {
      "text/html": [
       "<div>\n",
       "<style scoped>\n",
       "    .dataframe tbody tr th:only-of-type {\n",
       "        vertical-align: middle;\n",
       "    }\n",
       "\n",
       "    .dataframe tbody tr th {\n",
       "        vertical-align: top;\n",
       "    }\n",
       "\n",
       "    .dataframe thead th {\n",
       "        text-align: right;\n",
       "    }\n",
       "</style>\n",
       "<table border=\"1\" class=\"dataframe\">\n",
       "  <thead>\n",
       "    <tr style=\"text-align: right;\">\n",
       "      <th></th>\n",
       "      <th>x</th>\n",
       "      <th>y1</th>\n",
       "      <th>y2</th>\n",
       "      <th>y3</th>\n",
       "      <th>y4</th>\n",
       "    </tr>\n",
       "  </thead>\n",
       "  <tbody>\n",
       "    <tr>\n",
       "      <th>0</th>\n",
       "      <td>-20.0</td>\n",
       "      <td>-45.153633</td>\n",
       "      <td>20.477406</td>\n",
       "      <td>12.519363</td>\n",
       "      <td>17.865404</td>\n",
       "    </tr>\n",
       "    <tr>\n",
       "      <th>1</th>\n",
       "      <td>-19.9</td>\n",
       "      <td>-44.858116</td>\n",
       "      <td>19.856500</td>\n",
       "      <td>13.149199</td>\n",
       "      <td>17.747356</td>\n",
       "    </tr>\n",
       "    <tr>\n",
       "      <th>2</th>\n",
       "      <td>-19.8</td>\n",
       "      <td>-44.703747</td>\n",
       "      <td>19.486988</td>\n",
       "      <td>12.870700</td>\n",
       "      <td>16.018097</td>\n",
       "    </tr>\n",
       "    <tr>\n",
       "      <th>3</th>\n",
       "      <td>-19.7</td>\n",
       "      <td>-44.581840</td>\n",
       "      <td>19.352985</td>\n",
       "      <td>13.205771</td>\n",
       "      <td>14.654278</td>\n",
       "    </tr>\n",
       "    <tr>\n",
       "      <th>4</th>\n",
       "      <td>-19.6</td>\n",
       "      <td>-43.748604</td>\n",
       "      <td>19.588486</td>\n",
       "      <td>12.845135</td>\n",
       "      <td>13.845911</td>\n",
       "    </tr>\n",
       "  </tbody>\n",
       "</table>\n",
       "</div>"
      ],
      "text/plain": [
       "      x         y1         y2         y3         y4\n",
       "0 -20.0 -45.153633  20.477406  12.519363  17.865404\n",
       "1 -19.9 -44.858116  19.856500  13.149199  17.747356\n",
       "2 -19.8 -44.703747  19.486988  12.870700  16.018097\n",
       "3 -19.7 -44.581840  19.352985  13.205771  14.654278\n",
       "4 -19.6 -43.748604  19.588486  12.845135  13.845911"
      ]
     },
     "execution_count": 8,
     "metadata": {},
     "output_type": "execute_result"
    }
   ],
   "source": [
    "train_df.head()"
   ]
  },
  {
   "cell_type": "code",
   "execution_count": 9,
   "metadata": {},
   "outputs": [
    {
     "data": {
      "text/html": [
       "<div>\n",
       "<style scoped>\n",
       "    .dataframe tbody tr th:only-of-type {\n",
       "        vertical-align: middle;\n",
       "    }\n",
       "\n",
       "    .dataframe tbody tr th {\n",
       "        vertical-align: top;\n",
       "    }\n",
       "\n",
       "    .dataframe thead th {\n",
       "        text-align: right;\n",
       "    }\n",
       "</style>\n",
       "<table border=\"1\" class=\"dataframe\">\n",
       "  <thead>\n",
       "    <tr style=\"text-align: right;\">\n",
       "      <th></th>\n",
       "      <th>x</th>\n",
       "      <th>y</th>\n",
       "    </tr>\n",
       "  </thead>\n",
       "  <tbody>\n",
       "    <tr>\n",
       "      <th>0</th>\n",
       "      <td>0.7</td>\n",
       "      <td>0.509371</td>\n",
       "    </tr>\n",
       "    <tr>\n",
       "      <th>1</th>\n",
       "      <td>17.5</td>\n",
       "      <td>-17.841387</td>\n",
       "    </tr>\n",
       "    <tr>\n",
       "      <th>2</th>\n",
       "      <td>-10.2</td>\n",
       "      <td>7.822483</td>\n",
       "    </tr>\n",
       "    <tr>\n",
       "      <th>3</th>\n",
       "      <td>17.8</td>\n",
       "      <td>-5.292580</td>\n",
       "    </tr>\n",
       "    <tr>\n",
       "      <th>4</th>\n",
       "      <td>-17.1</td>\n",
       "      <td>16.841566</td>\n",
       "    </tr>\n",
       "  </tbody>\n",
       "</table>\n",
       "</div>"
      ],
      "text/plain": [
       "      x          y\n",
       "0   0.7   0.509371\n",
       "1  17.5 -17.841387\n",
       "2 -10.2   7.822483\n",
       "3  17.8  -5.292580\n",
       "4 -17.1  16.841566"
      ]
     },
     "execution_count": 9,
     "metadata": {},
     "output_type": "execute_result"
    }
   ],
   "source": [
    "test_df.head()"
   ]
  },
  {
   "cell_type": "code",
   "execution_count": 10,
   "metadata": {},
   "outputs": [
    {
     "data": {
      "text/html": [
       "<div>\n",
       "<style scoped>\n",
       "    .dataframe tbody tr th:only-of-type {\n",
       "        vertical-align: middle;\n",
       "    }\n",
       "\n",
       "    .dataframe tbody tr th {\n",
       "        vertical-align: top;\n",
       "    }\n",
       "\n",
       "    .dataframe thead th {\n",
       "        text-align: right;\n",
       "    }\n",
       "</style>\n",
       "<table border=\"1\" class=\"dataframe\">\n",
       "  <thead>\n",
       "    <tr style=\"text-align: right;\">\n",
       "      <th></th>\n",
       "      <th>x</th>\n",
       "      <th>y1</th>\n",
       "      <th>y2</th>\n",
       "      <th>y3</th>\n",
       "      <th>y4</th>\n",
       "      <th>y5</th>\n",
       "      <th>y6</th>\n",
       "      <th>y7</th>\n",
       "      <th>y8</th>\n",
       "      <th>y9</th>\n",
       "      <th>...</th>\n",
       "      <th>y41</th>\n",
       "      <th>y42</th>\n",
       "      <th>y43</th>\n",
       "      <th>y44</th>\n",
       "      <th>y45</th>\n",
       "      <th>y46</th>\n",
       "      <th>y47</th>\n",
       "      <th>y48</th>\n",
       "      <th>y49</th>\n",
       "      <th>y50</th>\n",
       "    </tr>\n",
       "  </thead>\n",
       "  <tbody>\n",
       "    <tr>\n",
       "      <th>0</th>\n",
       "      <td>-20.0</td>\n",
       "      <td>-0.912945</td>\n",
       "      <td>0.408082</td>\n",
       "      <td>9.087055</td>\n",
       "      <td>5.408082</td>\n",
       "      <td>-9.087055</td>\n",
       "      <td>0.912945</td>\n",
       "      <td>-0.839071</td>\n",
       "      <td>-0.850919</td>\n",
       "      <td>0.816164</td>\n",
       "      <td>...</td>\n",
       "      <td>-40.456474</td>\n",
       "      <td>40.20404</td>\n",
       "      <td>2.995732</td>\n",
       "      <td>-0.008333</td>\n",
       "      <td>12.995732</td>\n",
       "      <td>5.298317</td>\n",
       "      <td>-5.298317</td>\n",
       "      <td>-0.186278</td>\n",
       "      <td>0.912945</td>\n",
       "      <td>0.396850</td>\n",
       "    </tr>\n",
       "    <tr>\n",
       "      <th>1</th>\n",
       "      <td>-19.9</td>\n",
       "      <td>-0.867644</td>\n",
       "      <td>0.497186</td>\n",
       "      <td>9.132356</td>\n",
       "      <td>5.497186</td>\n",
       "      <td>-9.132356</td>\n",
       "      <td>0.867644</td>\n",
       "      <td>-0.865213</td>\n",
       "      <td>0.168518</td>\n",
       "      <td>0.994372</td>\n",
       "      <td>...</td>\n",
       "      <td>-40.233820</td>\n",
       "      <td>40.04859</td>\n",
       "      <td>2.990720</td>\n",
       "      <td>-0.008340</td>\n",
       "      <td>12.990720</td>\n",
       "      <td>5.293305</td>\n",
       "      <td>-5.293305</td>\n",
       "      <td>-0.215690</td>\n",
       "      <td>0.867644</td>\n",
       "      <td>0.476954</td>\n",
       "    </tr>\n",
       "  </tbody>\n",
       "</table>\n",
       "<p>2 rows × 51 columns</p>\n",
       "</div>"
      ],
      "text/plain": [
       "      x        y1        y2        y3        y4        y5        y6        y7  \\\n",
       "0 -20.0 -0.912945  0.408082  9.087055  5.408082 -9.087055  0.912945 -0.839071   \n",
       "1 -19.9 -0.867644  0.497186  9.132356  5.497186 -9.132356  0.867644 -0.865213   \n",
       "\n",
       "         y8        y9  ...        y41       y42       y43       y44  \\\n",
       "0 -0.850919  0.816164  ... -40.456474  40.20404  2.995732 -0.008333   \n",
       "1  0.168518  0.994372  ... -40.233820  40.04859  2.990720 -0.008340   \n",
       "\n",
       "         y45       y46       y47       y48       y49       y50  \n",
       "0  12.995732  5.298317 -5.298317 -0.186278  0.912945  0.396850  \n",
       "1  12.990720  5.293305 -5.293305 -0.215690  0.867644  0.476954  \n",
       "\n",
       "[2 rows x 51 columns]"
      ]
     },
     "execution_count": 10,
     "metadata": {},
     "output_type": "execute_result"
    }
   ],
   "source": [
    "ideal_df.head(2)"
   ]
  },
  {
   "cell_type": "code",
   "execution_count": 11,
   "metadata": {},
   "outputs": [],
   "source": [
    "#pd.options.display.max_columns=6"
   ]
  },
  {
   "cell_type": "code",
   "execution_count": 12,
   "metadata": {},
   "outputs": [],
   "source": [
    "def rmse(predictions, labels):\n",
    "    error = (np.sum(np.square(predictions-labels)))/len(predictions)\n",
    "    return error"
   ]
  },
  {
   "cell_type": "code",
   "execution_count": 13,
   "metadata": {},
   "outputs": [
    {
     "data": {
      "text/plain": [
       "numpy.ndarray"
      ]
     },
     "execution_count": 13,
     "metadata": {},
     "output_type": "execute_result"
    }
   ],
   "source": [
    "type(np.array(list(train_df.y1)))"
   ]
  },
  {
   "cell_type": "code",
   "execution_count": 14,
   "metadata": {},
   "outputs": [
    {
     "data": {
      "text/plain": [
       "159.17670596737275"
      ]
     },
     "execution_count": 14,
     "metadata": {},
     "output_type": "execute_result"
    }
   ],
   "source": [
    "rmse_error = rmse(np.array(list(train_df.y1)), np.array(list(ideal_df.y11)))\n",
    "rmse_error"
   ]
  },
  {
   "cell_type": "code",
   "execution_count": 15,
   "metadata": {},
   "outputs": [
    {
     "data": {
      "text/plain": [
       "Index(['x', 'y1', 'y2', 'y3', 'y4', 'y5', 'y6', 'y7', 'y8', 'y9', 'y10', 'y11',\n",
       "       'y12', 'y13', 'y14', 'y15', 'y16', 'y17', 'y18', 'y19', 'y20', 'y21',\n",
       "       'y22', 'y23', 'y24', 'y25', 'y26', 'y27', 'y28', 'y29', 'y30', 'y31',\n",
       "       'y32', 'y33', 'y34', 'y35', 'y36', 'y37', 'y38', 'y39', 'y40', 'y41',\n",
       "       'y42', 'y43', 'y44', 'y45', 'y46', 'y47', 'y48', 'y49', 'y50'],\n",
       "      dtype='object')"
      ]
     },
     "execution_count": 15,
     "metadata": {},
     "output_type": "execute_result"
    }
   ],
   "source": [
    "ideal_df.columns"
   ]
  },
  {
   "cell_type": "code",
   "execution_count": 34,
   "metadata": {},
   "outputs": [],
   "source": [
    "#list(ideal_df.columns)[1: ]"
   ]
  },
  {
   "cell_type": "code",
   "execution_count": 40,
   "metadata": {},
   "outputs": [],
   "source": [
    "error_list = []\n",
    "for column in list(ideal_df.columns)[1:]:\n",
    "    prediction = np.array(list(train_df.y1))\n",
    "    label =  np.array(list(ideal_df[column]))\n",
    "    rmse_error = rmse(prediction, label)\n",
    "    label_error_tuple = column, rmse_error\n",
    "    error_list.append(label_error_tuple)\n",
    "                      "
   ]
  },
  {
   "cell_type": "code",
   "execution_count": 44,
   "metadata": {},
   "outputs": [],
   "source": [
    "#error_list"
   ]
  },
  {
   "cell_type": "code",
   "execution_count": 17,
   "metadata": {},
   "outputs": [],
   "source": [
    "# Python program to sort a list of\n",
    "# tuples by the second Item using sorted()\n",
    " \n",
    "# Function to sort the list by second item of tuple\n",
    "def sort_Tuple(tup):\n",
    " \n",
    "    # reverse = None (Sorts in Ascending order)\n",
    "    # key is set to sort using second element of\n",
    "    # sublist lambda has been used\n",
    "    return(sorted(tup, key = lambda x: x[1])) "
   ]
  },
  {
   "cell_type": "markdown",
   "metadata": {},
   "source": [
    "### Doctring Example"
   ]
  },
  {
   "cell_type": "code",
   "execution_count": 18,
   "metadata": {},
   "outputs": [],
   "source": [
    "def sort_Tuple(tup):\n",
    "    '''\n",
    "        Function to sort the list by second item of tuple.\n",
    "        This Python program to sort a list of tuples by the second Item using sorted().\n",
    "        Here reverse = None (Sorts in Ascending order)\n",
    "        ,key is set to sort using second element of\n",
    "        , sublist lambda has been used.\n",
    "        \n",
    "     '''\n",
    "    return(sorted(tup, key = lambda x: x[1]))"
   ]
  },
  {
   "cell_type": "code",
   "execution_count": 47,
   "metadata": {},
   "outputs": [
    {
     "data": {
      "text/plain": [
       "[('y13', 0.08288858793275562),\n",
       " ('y41', 25.2894650489566),\n",
       " ('y11', 159.17670596737275),\n",
       " ('y12', 181.66276496489274),\n",
       " ('y47', 537.5923405209278),\n",
       " ('y5', 556.6847011548609)]"
      ]
     },
     "execution_count": 47,
     "metadata": {},
     "output_type": "execute_result"
    }
   ],
   "source": [
    "error_list = []\n",
    "for column in list(ideal_df.columns)[1:]:\n",
    "    prediction = np.array(list(train_df.y1))\n",
    "    label =  np.array(list(ideal_df[column]))\n",
    "    rmse_error = rmse(prediction, label)\n",
    "    label_error_tuple = column, rmse_error\n",
    "    error_list.append(label_error_tuple)\n",
    "    \n",
    "error_list_sorted = sort_Tuple(error_list)\n",
    "error_list_sorted[0:6]"
   ]
  },
  {
   "cell_type": "code",
   "execution_count": 48,
   "metadata": {},
   "outputs": [
    {
     "data": {
      "text/plain": [
       "('y13', 0.08288858793275562)"
      ]
     },
     "execution_count": 48,
     "metadata": {},
     "output_type": "execute_result"
    }
   ],
   "source": [
    "error_list_sorted[0]"
   ]
  },
  {
   "cell_type": "code",
   "execution_count": 24,
   "metadata": {},
   "outputs": [],
   "source": [
    "def lowest_rmse_label(train_feature, data):\n",
    "    error_list = []\n",
    "    for i in list(data.columns[1:]):\n",
    "        prediction = np.array(list(data[i]))\n",
    "        label = np.array(list(train_df[train_feature]))\n",
    "        error = rmse(prediction, label)\n",
    "        label_error_tuple= i, round(error, 2)\n",
    "        error_list.append(label_error_tuple)\n",
    "\n",
    "    error_list_sorted = sort_Tuple(error_list)\n",
    "    return error_list_sorted[0]"
   ]
  },
  {
   "cell_type": "code",
   "execution_count": 25,
   "metadata": {},
   "outputs": [
    {
     "data": {
      "text/plain": [
       "('y13', 0.08)"
      ]
     },
     "execution_count": 25,
     "metadata": {},
     "output_type": "execute_result"
    }
   ],
   "source": [
    "best_label_tuple = lowest_rmse_label('y1', ideal_df)\n",
    "best_label_tuple"
   ]
  },
  {
   "cell_type": "code",
   "execution_count": 26,
   "metadata": {},
   "outputs": [
    {
     "data": {
      "text/plain": [
       "['y1', 'y2', 'y3', 'y4']"
      ]
     },
     "execution_count": 26,
     "metadata": {},
     "output_type": "execute_result"
    }
   ],
   "source": [
    "list(train_df.columns)[1:]"
   ]
  },
  {
   "cell_type": "code",
   "execution_count": 27,
   "metadata": {},
   "outputs": [],
   "source": [
    "best_label_list = []\n",
    "for train_col in list(train_df.columns)[1:]:\n",
    "    best_label = lowest_rmse_label(train_col,ideal_df)\n",
    "    best_label_list.append(best_label)"
   ]
  },
  {
   "cell_type": "code",
   "execution_count": 28,
   "metadata": {},
   "outputs": [
    {
     "data": {
      "text/plain": [
       "[('y13', 0.08), ('y31', 0.08), ('y15', 0.09), ('y10', 0.08)]"
      ]
     },
     "execution_count": 28,
     "metadata": {},
     "output_type": "execute_result"
    }
   ],
   "source": [
    "best_label_list"
   ]
  },
  {
   "cell_type": "code",
   "execution_count": 29,
   "metadata": {},
   "outputs": [
    {
     "data": {
      "text/plain": [
       "('y10', 0.08)"
      ]
     },
     "execution_count": 29,
     "metadata": {},
     "output_type": "execute_result"
    }
   ],
   "source": [
    "best_label_tuple = lowest_rmse_label('y4', ideal_df)\n",
    "best_label_tuple"
   ]
  },
  {
   "cell_type": "code",
   "execution_count": 55,
   "metadata": {},
   "outputs": [],
   "source": [
    "def best_label_mapping(train_data, ideal_data):\n",
    "    best_label_list = []\n",
    "    for train_col in list(train_df.columns)[1:]:\n",
    "        best_label = lowest_rmse_label(train_col,ideal_df)\n",
    "        best_label_list.append(best_label)\n",
    "    return best_label_list"
   ]
  },
  {
   "cell_type": "code",
   "execution_count": 56,
   "metadata": {},
   "outputs": [
    {
     "data": {
      "text/plain": [
       "[('y13', 0.08288858793275562),\n",
       " ('y31', 0.07708626158646625),\n",
       " ('y15', 0.08669947695229224),\n",
       " ('y10', 0.08252947379732647)]"
      ]
     },
     "execution_count": 56,
     "metadata": {},
     "output_type": "execute_result"
    }
   ],
   "source": [
    "error_mapping_list = best_label_mapping(train_df, ideal_df)\n",
    "error_mapping_list"
   ]
  },
  {
   "cell_type": "markdown",
   "metadata": {},
   "source": [
    "\n",
    "\n",
    "* define a function to capture best function of train data feature from ideal data\n",
    "* pass the parametrs : trian_feature and the ideal data\n",
    "* a for loop to capture rmse between the traiun_feature and all the features in ideal_df\n",
    "* sort the values by lowest rmse\n",
    "* return the lowest function from ideal data and its corresponding rmse\n"
   ]
  },
  {
   "cell_type": "code",
   "execution_count": null,
   "metadata": {},
   "outputs": [],
   "source": []
  },
  {
   "cell_type": "markdown",
   "metadata": {},
   "source": [
    "* repeat the below process for each 'y' variable in train data:\n",
    "\n",
    "    define a function to capture best function of train data feature from ideal data\n",
    "    pass the parametrs : trian_feature and the ideal data\n",
    "    a for loop to capture rmse between the traiun_feature and all the features in ideal_df\n",
    "    sort the values by lowest rmse\n",
    "    return the lowest function from ideal data and its corresponding rmse\n",
    "\n",
    "\n"
   ]
  },
  {
   "cell_type": "code",
   "execution_count": 60,
   "metadata": {},
   "outputs": [],
   "source": [
    "def best_label_mapping(train_data, ideal_data):\n",
    "    best_label_list = []\n",
    "    for train_col in list(train_df.columns)[1:]:\n",
    "        best_label = lowest_rmse_label(train_col,ideal_df)\n",
    "        feat_dict = {}\n",
    "        new_key = train_col\n",
    "        new_value = best_label\n",
    "        feat_dict[new_key] = new_value\n",
    "        best_label_list.append(feat_dict)\n",
    "    return best_label_list"
   ]
  },
  {
   "cell_type": "code",
   "execution_count": 61,
   "metadata": {},
   "outputs": [
    {
     "data": {
      "text/plain": [
       "[{'y1': ('y13', 0.08288858793275562)},\n",
       " {'y2': ('y31', 0.07708626158646625)},\n",
       " {'y3': ('y15', 0.08669947695229224)},\n",
       " {'y4': ('y10', 0.08252947379732647)}]"
      ]
     },
     "execution_count": 61,
     "metadata": {},
     "output_type": "execute_result"
    }
   ],
   "source": [
    "error_mapping_list = best_label_mapping(train_df, ideal_df)\n",
    "error_mapping_list"
   ]
  },
  {
   "cell_type": "code",
   "execution_count": 62,
   "metadata": {},
   "outputs": [
    {
     "data": {
      "text/plain": [
       "{'y1': ('y13', 0.08288858793275562)}"
      ]
     },
     "execution_count": 62,
     "metadata": {},
     "output_type": "execute_result"
    }
   ],
   "source": [
    "error_mapping_list[0]"
   ]
  },
  {
   "cell_type": "code",
   "execution_count": 74,
   "metadata": {},
   "outputs": [],
   "source": [
    "def best_label_mapping(train_data, ideal_data):\n",
    "    best_label_list = []\n",
    "    for train_col in list(train_df.columns)[1:]:\n",
    "        best_label = lowest_rmse_label(train_col,ideal_df)\n",
    "        best_label_list.append(best_label)\n",
    "    col_list = list(train_df.columns)[1:]\n",
    "    \n",
    "    return dict((zip(col_list,best_label_list )))"
   ]
  },
  {
   "cell_type": "code",
   "execution_count": 75,
   "metadata": {},
   "outputs": [
    {
     "data": {
      "text/plain": [
       "{'y1': ('y13', 0.08288858793275562),\n",
       " 'y2': ('y31', 0.07708626158646625),\n",
       " 'y3': ('y15', 0.08669947695229224),\n",
       " 'y4': ('y10', 0.08252947379732647)}"
      ]
     },
     "execution_count": 75,
     "metadata": {},
     "output_type": "execute_result"
    }
   ],
   "source": [
    "error_mapping_dict= best_label_mapping(train_df, ideal_df)\n",
    "error_mapping_dict"
   ]
  },
  {
   "cell_type": "code",
   "execution_count": 72,
   "metadata": {},
   "outputs": [
    {
     "data": {
      "text/plain": [
       "{'y1': ('y13', 0.08288858793275562),\n",
       " 'y2': ('y31', 0.07708626158646625),\n",
       " 'y3': ('y15', 0.08669947695229224),\n",
       " 'y4': ('y10', 0.08252947379732647)}"
      ]
     },
     "execution_count": 72,
     "metadata": {},
     "output_type": "execute_result"
    }
   ],
   "source": [
    "error_mapping_dict = dict(error_mapping_list)\n",
    "error_mapping_dict"
   ]
  },
  {
   "cell_type": "code",
   "execution_count": 73,
   "metadata": {},
   "outputs": [
    {
     "data": {
      "text/plain": [
       "('y31', 0.07708626158646625)"
      ]
     },
     "execution_count": 73,
     "metadata": {},
     "output_type": "execute_result"
    }
   ],
   "source": [
    "error_mapping_dict['y2']"
   ]
  },
  {
   "cell_type": "code",
   "execution_count": 70,
   "metadata": {},
   "outputs": [
    {
     "data": {
      "text/plain": [
       "{}"
      ]
     },
     "execution_count": 70,
     "metadata": {},
     "output_type": "execute_result"
    }
   ],
   "source": [
    "error_mapping_dict = dict(error_mapping_list)\n",
    "error_mapping_dict"
   ]
  },
  {
   "cell_type": "code",
   "execution_count": 77,
   "metadata": {},
   "outputs": [
    {
     "data": {
      "text/plain": [
       "400"
      ]
     },
     "execution_count": 77,
     "metadata": {},
     "output_type": "execute_result"
    }
   ],
   "source": [
    "train_df.shape[0]"
   ]
  },
  {
   "cell_type": "code",
   "execution_count": 78,
   "metadata": {},
   "outputs": [
    {
     "data": {
      "text/plain": [
       "400"
      ]
     },
     "execution_count": 78,
     "metadata": {},
     "output_type": "execute_result"
    }
   ],
   "source": [
    "len(train_df)"
   ]
  },
  {
   "cell_type": "code",
   "execution_count": 84,
   "metadata": {},
   "outputs": [
    {
     "data": {
      "text/html": [
       "<div>\n",
       "<style scoped>\n",
       "    .dataframe tbody tr th:only-of-type {\n",
       "        vertical-align: middle;\n",
       "    }\n",
       "\n",
       "    .dataframe tbody tr th {\n",
       "        vertical-align: top;\n",
       "    }\n",
       "\n",
       "    .dataframe thead th {\n",
       "        text-align: right;\n",
       "    }\n",
       "</style>\n",
       "<table border=\"1\" class=\"dataframe\">\n",
       "  <thead>\n",
       "    <tr style=\"text-align: right;\">\n",
       "      <th></th>\n",
       "      <th>x</th>\n",
       "    </tr>\n",
       "  </thead>\n",
       "  <tbody>\n",
       "    <tr>\n",
       "      <td>0</td>\n",
       "      <td>-20.0</td>\n",
       "    </tr>\n",
       "    <tr>\n",
       "      <td>1</td>\n",
       "      <td>-19.9</td>\n",
       "    </tr>\n",
       "    <tr>\n",
       "      <td>2</td>\n",
       "      <td>-19.8</td>\n",
       "    </tr>\n",
       "    <tr>\n",
       "      <td>3</td>\n",
       "      <td>-19.7</td>\n",
       "    </tr>\n",
       "    <tr>\n",
       "      <td>4</td>\n",
       "      <td>-19.6</td>\n",
       "    </tr>\n",
       "    <tr>\n",
       "      <td>...</td>\n",
       "      <td>...</td>\n",
       "    </tr>\n",
       "    <tr>\n",
       "      <td>395</td>\n",
       "      <td>19.5</td>\n",
       "    </tr>\n",
       "    <tr>\n",
       "      <td>396</td>\n",
       "      <td>19.6</td>\n",
       "    </tr>\n",
       "    <tr>\n",
       "      <td>397</td>\n",
       "      <td>19.7</td>\n",
       "    </tr>\n",
       "    <tr>\n",
       "      <td>398</td>\n",
       "      <td>19.8</td>\n",
       "    </tr>\n",
       "    <tr>\n",
       "      <td>399</td>\n",
       "      <td>19.9</td>\n",
       "    </tr>\n",
       "  </tbody>\n",
       "</table>\n",
       "<p>400 rows × 1 columns</p>\n",
       "</div>"
      ],
      "text/plain": [
       "        x\n",
       "0   -20.0\n",
       "1   -19.9\n",
       "2   -19.8\n",
       "3   -19.7\n",
       "4   -19.6\n",
       "..    ...\n",
       "395  19.5\n",
       "396  19.6\n",
       "397  19.7\n",
       "398  19.8\n",
       "399  19.9\n",
       "\n",
       "[400 rows x 1 columns]"
      ]
     },
     "execution_count": 84,
     "metadata": {},
     "output_type": "execute_result"
    }
   ],
   "source": [
    "train_df.iloc[0:, 0:1]"
   ]
  },
  {
   "cell_type": "code",
   "execution_count": 82,
   "metadata": {},
   "outputs": [
    {
     "data": {
      "text/html": [
       "<div>\n",
       "<style scoped>\n",
       "    .dataframe tbody tr th:only-of-type {\n",
       "        vertical-align: middle;\n",
       "    }\n",
       "\n",
       "    .dataframe tbody tr th {\n",
       "        vertical-align: top;\n",
       "    }\n",
       "\n",
       "    .dataframe thead th {\n",
       "        text-align: right;\n",
       "    }\n",
       "</style>\n",
       "<table border=\"1\" class=\"dataframe\">\n",
       "  <thead>\n",
       "    <tr style=\"text-align: right;\">\n",
       "      <th></th>\n",
       "      <th>x</th>\n",
       "    </tr>\n",
       "  </thead>\n",
       "  <tbody>\n",
       "    <tr>\n",
       "      <td>0</td>\n",
       "      <td>-20.0</td>\n",
       "    </tr>\n",
       "    <tr>\n",
       "      <td>1</td>\n",
       "      <td>-19.9</td>\n",
       "    </tr>\n",
       "    <tr>\n",
       "      <td>2</td>\n",
       "      <td>-19.8</td>\n",
       "    </tr>\n",
       "    <tr>\n",
       "      <td>3</td>\n",
       "      <td>-19.7</td>\n",
       "    </tr>\n",
       "    <tr>\n",
       "      <td>4</td>\n",
       "      <td>-19.6</td>\n",
       "    </tr>\n",
       "    <tr>\n",
       "      <td>...</td>\n",
       "      <td>...</td>\n",
       "    </tr>\n",
       "    <tr>\n",
       "      <td>395</td>\n",
       "      <td>19.5</td>\n",
       "    </tr>\n",
       "    <tr>\n",
       "      <td>396</td>\n",
       "      <td>19.6</td>\n",
       "    </tr>\n",
       "    <tr>\n",
       "      <td>397</td>\n",
       "      <td>19.7</td>\n",
       "    </tr>\n",
       "    <tr>\n",
       "      <td>398</td>\n",
       "      <td>19.8</td>\n",
       "    </tr>\n",
       "    <tr>\n",
       "      <td>399</td>\n",
       "      <td>19.9</td>\n",
       "    </tr>\n",
       "  </tbody>\n",
       "</table>\n",
       "<p>400 rows × 1 columns</p>\n",
       "</div>"
      ],
      "text/plain": [
       "        x\n",
       "0   -20.0\n",
       "1   -19.9\n",
       "2   -19.8\n",
       "3   -19.7\n",
       "4   -19.6\n",
       "..    ...\n",
       "395  19.5\n",
       "396  19.6\n",
       "397  19.7\n",
       "398  19.8\n",
       "399  19.9\n",
       "\n",
       "[400 rows x 1 columns]"
      ]
     },
     "execution_count": 82,
     "metadata": {},
     "output_type": "execute_result"
    }
   ],
   "source": [
    "train_df.iloc[0:, 0:1]"
   ]
  },
  {
   "cell_type": "markdown",
   "metadata": {},
   "source": [
    "## Writing a class to find beset label mapping"
   ]
  },
  {
   "cell_type": "code",
   "execution_count": 85,
   "metadata": {},
   "outputs": [],
   "source": [
    "class Select_best_features:\n",
    "    def __init__(self, train_data, ideal_data):\n",
    "        self.train_length = train_data.shape[0]\n",
    "        self.ideal_length = ideal_data.shape[0]\n",
    "        self.train_target_feat = list(train_data.columns[1:])\n",
    "        self.ideal_target_feat = list(ideal_data.columns[1:])\n",
    "        self.ideal_target_data = ideal_df.iloc[0:,1:]\n",
    "        self.train_target_data = train_df.iloc[0:, 1:]\n",
    "        self.ideal_feat_pred = ideal_df.iloc[0:, 0:1]\n",
    "        self.train_feat_pred = train_df.iloc[0:, 0:1]\n",
    "    "
   ]
  },
  {
   "cell_type": "code",
   "execution_count": 86,
   "metadata": {},
   "outputs": [
    {
     "data": {
      "text/plain": [
       "<__main__.Select_best_features at 0x2a7fcb5c7c8>"
      ]
     },
     "execution_count": 86,
     "metadata": {},
     "output_type": "execute_result"
    }
   ],
   "source": [
    "best_features = Select_best_features(train_df, ideal_df)\n",
    "best_features"
   ]
  },
  {
   "cell_type": "code",
   "execution_count": 89,
   "metadata": {},
   "outputs": [
    {
     "data": {
      "text/plain": [
       "['y1', 'y2', 'y3', 'y4']"
      ]
     },
     "execution_count": 89,
     "metadata": {},
     "output_type": "execute_result"
    }
   ],
   "source": [
    "best_features.train_target_feat"
   ]
  },
  {
   "cell_type": "code",
   "execution_count": 91,
   "metadata": {},
   "outputs": [],
   "source": [
    "#best_features.ideal_target_feat"
   ]
  },
  {
   "cell_type": "code",
   "execution_count": 97,
   "metadata": {},
   "outputs": [],
   "source": [
    "class Select_best_features:\n",
    "    def __init__(self, train_data, ideal_data):\n",
    "        self.train_length = train_data.shape[0]\n",
    "        self.ideal_length = ideal_data.shape[0]\n",
    "        self.train_target_feat = list(train_data.columns[1:])\n",
    "        self.ideal_target_feat = list(ideal_data.columns[1:])\n",
    "        self.ideal_target_data = ideal_df.iloc[0:,1:]\n",
    "        self.train_target_data = train_df.iloc[0:, 1:]\n",
    "        self.ideal_feat_pred = ideal_df.iloc[0:, 0:1]\n",
    "        self.train_feat_pred = train_df.iloc[0:, 0:1]\n",
    "        \n",
    "    def lowest_rmse_label(self, train_feature):\n",
    "        error_list = []\n",
    "        for i in self.ideal_target_feat:\n",
    "            prediction = np.array(list(self.ideal_target_data[i]))\n",
    "            label = np.array(list(self.train_target_data[train_feature]))\n",
    "            error = rmse(prediction, label)\n",
    "            label_error_tuple= i, error\n",
    "            error_list.append(label_error_tuple)\n",
    "\n",
    "        error_list_sorted = sort_Tuple(error_list)\n",
    "        return error_list_sorted[0]\n",
    "    "
   ]
  },
  {
   "cell_type": "code",
   "execution_count": null,
   "metadata": {},
   "outputs": [],
   "source": [
    "def lowest_rmse_label(train_feature, data):\n",
    "    error_list = []\n",
    "    for i in list(data.columns[1:]):\n",
    "        prediction = np.array(list(data[i]))\n",
    "        label = np.array(list(train_df[train_feature]))\n",
    "        error = rmse(prediction, label)\n",
    "        label_error_tuple= i, error\n",
    "        error_list.append(label_error_tuple)\n",
    "\n",
    "    error_list_sorted = sort_Tuple(error_list)\n",
    "    return error_list_sorted[0]"
   ]
  },
  {
   "cell_type": "code",
   "execution_count": 98,
   "metadata": {},
   "outputs": [
    {
     "data": {
      "text/plain": [
       "['y1', 'y2', 'y3', 'y4']"
      ]
     },
     "execution_count": 98,
     "metadata": {},
     "output_type": "execute_result"
    }
   ],
   "source": [
    "best_features = Select_best_features(train_df, ideal_df)\n",
    "best_features.train_target_feat"
   ]
  },
  {
   "cell_type": "code",
   "execution_count": 99,
   "metadata": {},
   "outputs": [
    {
     "data": {
      "text/plain": [
       "('y13', 0.08288858793275562)"
      ]
     },
     "execution_count": 99,
     "metadata": {},
     "output_type": "execute_result"
    }
   ],
   "source": [
    "best_features.lowest_rmse_label('y1')"
   ]
  },
  {
   "cell_type": "code",
   "execution_count": 100,
   "metadata": {},
   "outputs": [
    {
     "data": {
      "text/plain": [
       "('y31', 0.07708626158646625)"
      ]
     },
     "execution_count": 100,
     "metadata": {},
     "output_type": "execute_result"
    }
   ],
   "source": [
    "best_features.lowest_rmse_label('y2')"
   ]
  },
  {
   "cell_type": "code",
   "execution_count": null,
   "metadata": {},
   "outputs": [],
   "source": []
  },
  {
   "cell_type": "code",
   "execution_count": 33,
   "metadata": {},
   "outputs": [],
   "source": [
    "class Select_best_features:\n",
    "    def __init__(self, train_data, ideal_data):\n",
    "        self.train_length = train_data.shape[0]\n",
    "        self.ideal_length = ideal_data.shape[0]\n",
    "        self.train_target_feat = list(train_data.columns[1:])\n",
    "        self.ideal_target_feat = list(ideal_data.columns[1:])\n",
    "        self.ideal_target_data = ideal_df.iloc[0:,1:]\n",
    "        self.train_target_data = train_df.iloc[0:, 1:]\n",
    "        self.ideal_feat_pred = ideal_df.iloc[0:, 0:1]\n",
    "        self.train_feat_pred = train_df.iloc[0:, 0:1]\n",
    "        \n",
    "    def lowest_rmse_label(self, train_feature):\n",
    "        error_list = []\n",
    "        for i in self.ideal_target_feat:\n",
    "            prediction = np.array(list(self.ideal_target_data[i]))\n",
    "            label = np.array(list(self.train_target_data[train_feature]))\n",
    "            error = rmse(prediction, label)\n",
    "            label_error_tuple= i, round(error, 3)\n",
    "            error_list.append(label_error_tuple)\n",
    "\n",
    "        error_list_sorted = sort_Tuple(error_list)\n",
    "        return error_list_sorted[0]\n",
    "    \n",
    "    def lowest_rmse_all_labels(self):\n",
    "        best_label_list = []\n",
    "        for train_col in self.train_target_feat:\n",
    "            best_label = self.lowest_rmse_label(train_col)\n",
    "            best_label_list.append(best_label)\n",
    "        col_list = self.train_target_feat\n",
    "    \n",
    "        return dict((zip(col_list,best_label_list )))"
   ]
  },
  {
   "cell_type": "code",
   "execution_count": 34,
   "metadata": {},
   "outputs": [],
   "source": [
    " new_class_object = Select_best_features(train_df, ideal_df)"
   ]
  },
  {
   "cell_type": "code",
   "execution_count": 35,
   "metadata": {},
   "outputs": [
    {
     "data": {
      "text/plain": [
       "['y1', 'y2', 'y3', 'y4']"
      ]
     },
     "execution_count": 35,
     "metadata": {},
     "output_type": "execute_result"
    }
   ],
   "source": [
    "new_class_object.train_target_feat"
   ]
  },
  {
   "cell_type": "code",
   "execution_count": 36,
   "metadata": {},
   "outputs": [
    {
     "data": {
      "text/plain": [
       "('y15', 0.087)"
      ]
     },
     "execution_count": 36,
     "metadata": {},
     "output_type": "execute_result"
    }
   ],
   "source": [
    "new_class_object.lowest_rmse_label('y3')"
   ]
  },
  {
   "cell_type": "code",
   "execution_count": 37,
   "metadata": {},
   "outputs": [
    {
     "data": {
      "text/plain": [
       "{'y1': ('y13', 0.083),\n",
       " 'y2': ('y31', 0.077),\n",
       " 'y3': ('y15', 0.087),\n",
       " 'y4': ('y10', 0.083)}"
      ]
     },
     "execution_count": 37,
     "metadata": {},
     "output_type": "execute_result"
    }
   ],
   "source": [
    "new_class_object.lowest_rmse_all_labels()"
   ]
  },
  {
   "cell_type": "code",
   "execution_count": null,
   "metadata": {},
   "outputs": [],
   "source": []
  },
  {
   "cell_type": "code",
   "execution_count": null,
   "metadata": {},
   "outputs": [],
   "source": []
  },
  {
   "cell_type": "code",
   "execution_count": null,
   "metadata": {},
   "outputs": [],
   "source": []
  },
  {
   "cell_type": "code",
   "execution_count": 83,
   "metadata": {},
   "outputs": [],
   "source": [
    "def maxdev(predictions, labels):\n",
    "    maxdev = np.max(np.abs((predictions-labels)))\n",
    "    return maxdev"
   ]
  },
  {
   "cell_type": "code",
   "execution_count": 144,
   "metadata": {},
   "outputs": [
    {
     "data": {
      "text/plain": [
       "0.4975619999999985"
      ]
     },
     "execution_count": 144,
     "metadata": {},
     "output_type": "execute_result"
    }
   ],
   "source": [
    "maxdev(np.array(list(train_df.y3)),np.array(list(ideal_df.y15)))"
   ]
  },
  {
   "cell_type": "code",
   "execution_count": 142,
   "metadata": {},
   "outputs": [
    {
     "data": {
      "text/plain": [
       "1.4142135623730951"
      ]
     },
     "execution_count": 142,
     "metadata": {},
     "output_type": "execute_result"
    }
   ],
   "source": [
    "np.sqrt(2)"
   ]
  },
  {
   "cell_type": "code",
   "execution_count": 145,
   "metadata": {},
   "outputs": [
    {
     "data": {
      "text/plain": [
       "1.9112135623730953"
      ]
     },
     "execution_count": 145,
     "metadata": {},
     "output_type": "execute_result"
    }
   ],
   "source": [
    "max_dev_allowed = 0.497 + np.sqrt(2)\n",
    "max_dev_allowed\n"
   ]
  },
  {
   "cell_type": "code",
   "execution_count": 146,
   "metadata": {},
   "outputs": [
    {
     "data": {
      "text/plain": [
       "1.9000000000000004"
      ]
     },
     "execution_count": 146,
     "metadata": {},
     "output_type": "execute_result"
    }
   ],
   "source": [
    "12.5-10.6"
   ]
  },
  {
   "cell_type": "code",
   "execution_count": null,
   "metadata": {},
   "outputs": [],
   "source": []
  },
  {
   "cell_type": "markdown",
   "metadata": {},
   "source": [
    "## Inheritance"
   ]
  },
  {
   "cell_type": "markdown",
   "metadata": {},
   "source": [
    "### Here, there are two similar classes: Rectangle and Square."
   ]
  },
  {
   "cell_type": "code",
   "execution_count": 38,
   "metadata": {},
   "outputs": [],
   "source": [
    "class Rectangle:\n",
    "    def __init__(self, length, width):\n",
    "        self.length = length\n",
    "        self.width = width\n",
    "\n",
    "    def area(self):\n",
    "        return self.length * self.width\n",
    "\n",
    "    def perimeter(self):\n",
    "        return 2 * self.length + 2 * self.width\n",
    "\n",
    "class Square:\n",
    "    def __init__(self, length):\n",
    "        self.length = length\n",
    "\n",
    "    def area(self):\n",
    "        return self.length * self.length\n",
    "\n",
    "    def perimeter(self):\n",
    "        return 4 * self.length"
   ]
  },
  {
   "cell_type": "code",
   "execution_count": 39,
   "metadata": {},
   "outputs": [
    {
     "data": {
      "text/plain": [
       "16"
      ]
     },
     "execution_count": 39,
     "metadata": {},
     "output_type": "execute_result"
    }
   ],
   "source": [
    "square = Square(4)\n",
    "square.area()"
   ]
  },
  {
   "cell_type": "code",
   "execution_count": 40,
   "metadata": {},
   "outputs": [
    {
     "data": {
      "text/plain": [
       "8"
      ]
     },
     "execution_count": 40,
     "metadata": {},
     "output_type": "execute_result"
    }
   ],
   "source": [
    "rectangle = Rectangle(2,4)\n",
    "rectangle.area()"
   ]
  },
  {
   "cell_type": "markdown",
   "metadata": {},
   "source": [
    "* In the above example, you have two shapes that are related to each other: a square is a special kind of rectangle. The code, however, doesn’t reflect that relationship and thus has code that is essentially repeated.\n",
    "\n",
    "* By using inheritance, you can reduce the amount of code you write while simultaneously reflecting the real-world relationship between rectangles and squares:"
   ]
  },
  {
   "cell_type": "code",
   "execution_count": 46,
   "metadata": {},
   "outputs": [],
   "source": [
    "class Rectangle:\n",
    "    def __init__(self, length, width):\n",
    "        self.length = length\n",
    "        self.width = width\n",
    "\n",
    "    def area(self):\n",
    "        return self.length * self.width\n",
    "\n",
    "    def perimeter(self):\n",
    "        return 2 * self.length + 2 * self.width\n",
    "\n",
    "# Here we declare that the Square class inherits from the Rectangle class\n",
    "class Square(Rectangle):\n",
    "    def __init__(self, length):\n",
    "        super().__init__(length, length)"
   ]
  },
  {
   "cell_type": "code",
   "execution_count": 47,
   "metadata": {},
   "outputs": [
    {
     "data": {
      "text/plain": [
       "16"
      ]
     },
     "execution_count": 47,
     "metadata": {},
     "output_type": "execute_result"
    }
   ],
   "source": [
    "square = Square(4)\n",
    "square.area()"
   ]
  },
  {
   "cell_type": "code",
   "execution_count": 49,
   "metadata": {},
   "outputs": [
    {
     "ename": "NameError",
     "evalue": "name 'isinheritance' is not defined",
     "output_type": "error",
     "traceback": [
      "\u001b[1;31m---------------------------------------------------------------------------\u001b[0m",
      "\u001b[1;31mNameError\u001b[0m                                 Traceback (most recent call last)",
      "Input \u001b[1;32mIn [49]\u001b[0m, in \u001b[0;36m<cell line: 1>\u001b[1;34m()\u001b[0m\n\u001b[1;32m----> 1\u001b[0m \u001b[43misinheritance\u001b[49m(Rectangle, Square)\n",
      "\u001b[1;31mNameError\u001b[0m: name 'isinheritance' is not defined"
     ]
    }
   ],
   "source": [
    "isinheritance(Rectangle, Square)"
   ]
  },
  {
   "cell_type": "markdown",
   "metadata": {},
   "source": [
    "* In this example, Rectangle is the superclass, and Square is the subclass.\n",
    "\n",
    "* Because the Square and Rectangle .__init__() methods are so similar, you can simply call the superclass’s .__init__() method (Rectangle.__init__()) from that of Square by using super(). This sets the .length and .width attributes even though you just had to supply a single length parameter to the Square constructor.\n",
    "\n",
    "* When you run this, even though your Square class doesn’t explicitly implement it, the call to .area() will use the .area() method in the superclass and print 16. The Square class inherited .area() from the Rectangle class."
   ]
  },
  {
   "cell_type": "markdown",
   "metadata": {},
   "source": []
  },
  {
   "cell_type": "markdown",
   "metadata": {},
   "source": [
    "### What Can super() Do for You?\n",
    "\n",
    "* So what can super() do for you in single inheritance?\n",
    "\n",
    "* Like in other object-oriented languages, it allows you to call methods of the superclass in your subclass. The primary use case of this is to extend the functionality of the inherited method.\n",
    "\n",
    "* In the example below, you will create a class Cube that inherits from Square and extends the functionality of .area() (inherited from the Rectangle class through Square) to calculate the surface area and volume of a Cube instance"
   ]
  },
  {
   "cell_type": "code",
   "execution_count": 50,
   "metadata": {},
   "outputs": [],
   "source": [
    "class Square(Rectangle):\n",
    "    def __init__(self, length):\n",
    "        super().__init__(length, length)\n",
    "\n",
    "class Cube(Square):\n",
    "    def surface_area(self):\n",
    "        face_area = super().area()\n",
    "        return face_area * 6\n",
    "\n",
    "    def volume(self):\n",
    "        face_area = super().area()\n",
    "        return face_area * self.length"
   ]
  },
  {
   "cell_type": "markdown",
   "metadata": {},
   "source": [
    "* Now that you’ve built the classes, let’s look at the surface area and volume of a cube with a side length of 3:"
   ]
  },
  {
   "cell_type": "code",
   "execution_count": 51,
   "metadata": {},
   "outputs": [
    {
     "data": {
      "text/plain": [
       "54"
      ]
     },
     "execution_count": 51,
     "metadata": {},
     "output_type": "execute_result"
    }
   ],
   "source": [
    "cube = Cube(3)\n",
    "cube.surface_area()"
   ]
  },
  {
   "cell_type": "markdown",
   "metadata": {},
   "source": [
    "* Here you have implemented two methods for the Cube class: .surface_area() and .volume(). Both of these calculations rely on calculating the area of a single face, so rather than reimplementing the area calculation, you use super() to extend the area calculation.\n",
    "\n",
    "* Also notice that the Cube class definition does not have an .__init__(). Because Cube inherits from Square and .__init__() doesn’t really do anything differently for Cube than it already does for Square, you can skip defining it, and the .__init__() of the superclass (Square) will be called automatically.\n",
    "\n",
    "* super() returns a delegate object to a parent class, so you call the method you want directly on it: super().area().\n",
    "\n",
    "* Not only does this save us from having to rewrite the area calculations, but it also allows us to change the internal .area() logic in a single location. This is especially in handy when you have a number of subclasses inheriting from one superclass."
   ]
  },
  {
   "cell_type": "code",
   "execution_count": null,
   "metadata": {},
   "outputs": [],
   "source": []
  },
  {
   "cell_type": "code",
   "execution_count": null,
   "metadata": {},
   "outputs": [],
   "source": []
  },
  {
   "cell_type": "code",
   "execution_count": 56,
   "metadata": {},
   "outputs": [],
   "source": [
    "class Select_best_features:\n",
    "    def __init__(self, train_data, ideal_data):\n",
    "        self.train_length = train_data.shape[0]\n",
    "        self.ideal_length = ideal_data.shape[0]\n",
    "        self.train_target_feat = list(train_data.columns[1:])\n",
    "        self.ideal_target_feat = list(ideal_data.columns[1:])\n",
    "        self.ideal_target_data = ideal_df.iloc[0:,1:]\n",
    "        self.train_target_data = train_df.iloc[0:, 1:]\n",
    "        self.ideal_feat_pred = ideal_df.iloc[0:, 0:1]\n",
    "        self.train_feat_pred = train_df.iloc[0:, 0:1]\n",
    "        \n",
    "    def lowest_rmse_label(self, train_feature):\n",
    "        error_list = []\n",
    "        for i in self.ideal_target_feat:\n",
    "            prediction = np.array(list(self.ideal_target_data[i]))\n",
    "            label = np.array(list(self.train_target_data[train_feature]))\n",
    "            error = rmse(prediction, label)\n",
    "            label_error_tuple= i, round(error, 2)\n",
    "            error_list.append(label_error_tuple)\n",
    "\n",
    "        error_list_sorted = sort_Tuple(error_list)\n",
    "        return error_list_sorted[0]\n",
    "    \n",
    "    def lowest_rmse_all_labels(self):\n",
    "        best_label_list = []\n",
    "        for train_col in self.train_target_feat:\n",
    "            best_label = self.lowest_rmse_label(train_col)\n",
    "            best_label_list.append(best_label)\n",
    "        col_list = self.train_target_feat\n",
    "    \n",
    "        return dict((zip(col_list,best_label_list )))"
   ]
  },
  {
   "cell_type": "code",
   "execution_count": 73,
   "metadata": {},
   "outputs": [],
   "source": [
    "class Test_cases(Select_best_features):\n",
    "    def train_ideal_max_dev(self):\n",
    "        train_ideal_func_dict = super().lowest_rmse_all_labels()\n",
    "        #print(train_ideal_func_dict)\n",
    "        #print(self.train_length)\n",
    "        return train_ideal_func_dict"
   ]
  },
  {
   "cell_type": "code",
   "execution_count": 74,
   "metadata": {},
   "outputs": [
    {
     "data": {
      "text/plain": [
       "{'y1': ('y13', 0.08),\n",
       " 'y2': ('y31', 0.08),\n",
       " 'y3': ('y15', 0.09),\n",
       " 'y4': ('y10', 0.08)}"
      ]
     },
     "execution_count": 74,
     "metadata": {},
     "output_type": "execute_result"
    }
   ],
   "source": [
    "new_tc = Test_cases(train_df, ideal_df)\n",
    "new_tc.train_ideal_max_dev()"
   ]
  },
  {
   "cell_type": "code",
   "execution_count": 76,
   "metadata": {},
   "outputs": [
    {
     "name": "stdout",
     "output_type": "stream",
     "text": [
      "{'y1': ('y13', 0.08), 'y2': ('y31', 0.08), 'y3': ('y15', 0.09), 'y4': ('y10', 0.08)}\n"
     ]
    }
   ],
   "source": [
    "ideal_func_dict = new_tc.train_ideal_max_dev()\n",
    "print(ideal_func_dict)"
   ]
  },
  {
   "cell_type": "code",
   "execution_count": 77,
   "metadata": {},
   "outputs": [
    {
     "name": "stdout",
     "output_type": "stream",
     "text": [
      "{'y1': ('y13', 0.08), 'y2': ('y31', 0.08), 'y3': ('y15', 0.09), 'y4': ('y10', 0.08)}\n"
     ]
    }
   ],
   "source": [
    "print(ideal_func_dict)"
   ]
  },
  {
   "cell_type": "code",
   "execution_count": 79,
   "metadata": {},
   "outputs": [
    {
     "data": {
      "text/plain": [
       "'y13'"
      ]
     },
     "execution_count": 79,
     "metadata": {},
     "output_type": "execute_result"
    }
   ],
   "source": [
    "ideal_func_dict['y1'][0]"
   ]
  },
  {
   "cell_type": "code",
   "execution_count": 85,
   "metadata": {},
   "outputs": [],
   "source": [
    "class Test_cases(Select_best_features):\n",
    "    def train_ideal_max_dev(self):\n",
    "        train_ideal_func_dict = super().lowest_rmse_all_labels()\n",
    "        max_dev_list = []\n",
    "        for feature in  self.train_target_feat:\n",
    "            #print(feature)\n",
    "            ideal_feat = train_ideal_func_dict[feature][0]\n",
    "            print(feature, ideal_feat)\n",
    "            max_dev_ = maxdev(self.train_target_data[feature], self.ideal_target_data[ideal_feat])\n",
    "            max_dev_list.append(max_dev_)\n",
    "            print(max_dev_list, '\\n')"
   ]
  },
  {
   "cell_type": "code",
   "execution_count": 86,
   "metadata": {},
   "outputs": [
    {
     "name": "stdout",
     "output_type": "stream",
     "text": [
      "y1 y13\n",
      "[0.4999699999999976] \n",
      "\n",
      "y2 y31\n",
      "[0.4999699999999976, 0.49812999999999974] \n",
      "\n",
      "y3 y15\n",
      "[0.4999699999999976, 0.49812999999999974, 0.4975619999999985] \n",
      "\n",
      "y4 y10\n",
      "[0.4999699999999976, 0.49812999999999974, 0.4975619999999985, 0.49966569999999955] \n",
      "\n"
     ]
    }
   ],
   "source": [
    "tc = Test_cases(train_df, ideal_df)\n",
    "tc.train_ideal_max_dev()"
   ]
  },
  {
   "cell_type": "code",
   "execution_count": 89,
   "metadata": {},
   "outputs": [],
   "source": [
    "class Test_cases(Select_best_features):\n",
    "    def train_ideal_max_dev(self):\n",
    "        train_ideal_func_dict = super().lowest_rmse_all_labels()\n",
    "        max_dev_list = []\n",
    "        for feature in  self.train_target_feat:\n",
    "            ideal_feat = train_ideal_func_dict[feature][0]\n",
    "            max_dev_ = maxdev(self.train_target_data[feature], self.ideal_target_data[ideal_feat])\n",
    "            max_dev_list.append(round(max_dev_, 3))\n",
    "        return dict((zip(self.train_target_feat, max_dev_list )))"
   ]
  },
  {
   "cell_type": "code",
   "execution_count": 90,
   "metadata": {},
   "outputs": [
    {
     "data": {
      "text/plain": [
       "{'y1': 0.5, 'y2': 0.498, 'y3': 0.498, 'y4': 0.5}"
      ]
     },
     "execution_count": 90,
     "metadata": {},
     "output_type": "execute_result"
    }
   ],
   "source": [
    "tc = Test_cases(train_df, ideal_df)\n",
    "tc.train_ideal_max_dev()"
   ]
  },
  {
   "cell_type": "markdown",
   "metadata": {},
   "source": [
    "* The criterion for mapping the individual test case to the four ideal functions is that the existing maximum \n",
    "deviation of the calculated regression does not exceed the largest deviation between training dataset (A) and \n",
    "the ideal function (C) chosen for it by more than factor sqrt(2)\n"
   ]
  },
  {
   "cell_type": "code",
   "execution_count": 93,
   "metadata": {},
   "outputs": [
    {
     "data": {
      "text/plain": [
       "1.9042135623730951"
      ]
     },
     "execution_count": 93,
     "metadata": {},
     "output_type": "execute_result"
    }
   ],
   "source": [
    "np.sqrt(2)+0.49\n"
   ]
  },
  {
   "cell_type": "code",
   "execution_count": null,
   "metadata": {},
   "outputs": [],
   "source": [
    "class test_cases(Select_best_features):\n",
    "    def test_deviation(self, xvalue):\n",
    "        for feature in  self.train_target_feat:\n",
    "            feature + '_' + 'dict' = dict(((zip(self.train_feat_pred, self.train_target_data[feature])))\n",
    " \n",
    "        return dict((zip(self.train_target_feat, max_dev_list )))"
   ]
  }
 ],
 "metadata": {
  "kernelspec": {
   "display_name": "Python 3 (ipykernel)",
   "language": "python",
   "name": "python3"
  },
  "language_info": {
   "codemirror_mode": {
    "name": "ipython",
    "version": 3
   },
   "file_extension": ".py",
   "mimetype": "text/x-python",
   "name": "python",
   "nbconvert_exporter": "python",
   "pygments_lexer": "ipython3",
   "version": "3.9.12"
  }
 },
 "nbformat": 4,
 "nbformat_minor": 2
}
